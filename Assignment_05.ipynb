{
 "cells": [
  {
   "attachments": {},
   "cell_type": "markdown",
   "metadata": {},
   "source": [
    "# **Q1:-**\n",
    "## Create a vehicle class with an init method having instance variables as name_of_vehicle, max_speed and average_of_vehicle."
   ]
  },
  {
   "cell_type": "code",
   "execution_count": 2,
   "metadata": {},
   "outputs": [
    {
     "name": "stdout",
     "output_type": "stream",
     "text": [
      "vehical name |Max Speed(kmph) | Average_of_vehicle(kmpl)\n",
      "1.fortuner   | 342            | 12\n",
      "2.Audi       | 241            | 20\n",
      "3.Ducati     | 380            | 7\n"
     ]
    }
   ],
   "source": [
    "print(\"vehical name\",\"|Max Speed(kmph)\",\"| Average_of_vehicle(kmpl)\")\n",
    "class vehicle:\n",
    "    def __init__(self,name,max_speed,average_of_vehicle):\n",
    "        self.name = name\n",
    "        self.max_speed = max_speed\n",
    "        self.average_of_vehicle = average_of_vehicle\n",
    "        \n",
    "    def return_value(self):\n",
    "       \n",
    "       print(self.name,\"  |\" , self.max_speed,\"           |\" ,self.average_of_vehicle)\n",
    "car1=vehicle(\"1.fortuner\",342,12)\n",
    "car1.return_value()\n",
    "car2=vehicle(\"2.Audi    \",241  ,20)\n",
    "car2.return_value()\n",
    "car3=vehicle(\"3.Ducati  \",380  ,7)\n",
    "car3.return_value()\n",
    "       "
   ]
  },
  {
   "attachments": {},
   "cell_type": "markdown",
   "metadata": {},
   "source": [
    "# **Q2:-**\n",
    "## Create a child class car from the vehicle class created in Que 1, which will inherit the vehicle class.\n",
    "## Create a method named seating_capacity which takes capacity as an argument and returns the name of the vehicle and its seating capacity."
   ]
  },
  {
   "cell_type": "code",
   "execution_count": 3,
   "metadata": {},
   "outputs": [
    {
     "name": "stdout",
     "output_type": "stream",
     "text": [
      "Name of car  | Capacity of car\n"
     ]
    },
    {
     "ename": "AttributeError",
     "evalue": "type object 'car' has no attribute 'name'",
     "output_type": "error",
     "traceback": [
      "\u001b[1;31m---------------------------------------------------------------------------\u001b[0m",
      "\u001b[1;31mAttributeError\u001b[0m                            Traceback (most recent call last)",
      "Cell \u001b[1;32mIn[3], line 7\u001b[0m\n\u001b[0;32m      5\u001b[0m         \u001b[39mreturn\u001b[39;00m \u001b[39mself\u001b[39m\u001b[39m.\u001b[39mcapacity\n\u001b[0;32m      6\u001b[0m \u001b[39mprint\u001b[39m(\u001b[39m\"\u001b[39m\u001b[39mName of car  |\u001b[39m\u001b[39m\"\u001b[39m,\u001b[39m\"\u001b[39m\u001b[39mCapacity of car\u001b[39m\u001b[39m\"\u001b[39m)\n\u001b[1;32m----> 7\u001b[0m c\u001b[39m=\u001b[39m car\u001b[39m.\u001b[39;49mname()\n\u001b[0;32m      8\u001b[0m c\u001b[39m.\u001b[39mseating_capacity\n\u001b[0;32m      9\u001b[0m c\u001b[39m.\u001b[39mseating_capacity()\n",
      "\u001b[1;31mAttributeError\u001b[0m: type object 'car' has no attribute 'name'"
     ]
    }
   ],
   "source": [
    "class car(vehicle):\n",
    "    def __init__(self,capacity):\n",
    "        self.capacity =capacity\n",
    "    def seating_capacity(self):\n",
    "        return self.capacity\n",
    "print(\"Name of car  |\",\"Capacity of car\")\n",
    "c= car.name()\n",
    "c.seating_capacity\n",
    "c.seating_capacity()"
   ]
  },
  {
   "attachments": {},
   "cell_type": "markdown",
   "metadata": {},
   "source": [
    "# **Q3:-**\n",
    "## What is multiple inheritance? Write a python code to demonstrate multiple inheritance."
   ]
  },
  {
   "attachments": {},
   "cell_type": "markdown",
   "metadata": {},
   "source": [
    "The property of acquiring all the properties and behaviors of the parent object by an object is termed as Python inheritance. Python facilitates inheritance of a derived class from more than one base class which is also called as multiple inheritance in Python."
   ]
  },
  {
   "cell_type": "code",
   "execution_count": 4,
   "metadata": {},
   "outputs": [],
   "source": [
    "class father:\n",
    "    def details1(self,name,occupation):\n",
    "        self.name = name\n",
    "        self.occupation = occupation\n",
    "        print(f\"My father name is {self.name} and he is a {self.occupation}\")\n",
    "    "
   ]
  },
  {
   "cell_type": "code",
   "execution_count": 5,
   "metadata": {},
   "outputs": [],
   "source": [
    "class mother:\n",
    "    def details2(self,name,occupation):\n",
    "        self.name=name\n",
    "        self.occupation=occupation\n",
    "        print(f\"My mother name is {self.name} and he is a {self.occupation}\")"
   ]
  },
  {
   "cell_type": "code",
   "execution_count": 6,
   "metadata": {},
   "outputs": [],
   "source": [
    "class son(father,mother):\n",
    "    pass"
   ]
  },
  {
   "cell_type": "code",
   "execution_count": 7,
   "metadata": {},
   "outputs": [
    {
     "name": "stdout",
     "output_type": "stream",
     "text": [
      "My father name is ____ and he is a ____\n"
     ]
    }
   ],
   "source": [
    "obj_son=son()\n",
    "obj_son.details1(\"____\",\"____\")\n"
   ]
  },
  {
   "cell_type": "code",
   "execution_count": 8,
   "metadata": {},
   "outputs": [
    {
     "name": "stdout",
     "output_type": "stream",
     "text": [
      "My mother name is ___ and he is a ____\n"
     ]
    }
   ],
   "source": [
    "obj_son.details2(\"___\",\"____\")"
   ]
  },
  {
   "attachments": {},
   "cell_type": "markdown",
   "metadata": {},
   "source": [
    "# **Q4:-**\n",
    "## What are getter and setter in python? Create a class and create a getter and a setter method in this class."
   ]
  },
  {
   "cell_type": "code",
   "execution_count": null,
   "metadata": {},
   "outputs": [],
   "source": []
  },
  {
   "attachments": {},
   "cell_type": "markdown",
   "metadata": {},
   "source": [
    "# **Q5:-**\n",
    "## What is method overriding in python? Write a python code to demonstrate method overriding."
   ]
  },
  {
   "cell_type": "code",
   "execution_count": null,
   "metadata": {},
   "outputs": [],
   "source": []
  },
  {
   "cell_type": "code",
   "execution_count": null,
   "metadata": {},
   "outputs": [],
   "source": []
  }
 ],
 "metadata": {
  "kernelspec": {
   "display_name": "Python 3",
   "language": "python",
   "name": "python3"
  },
  "language_info": {
   "codemirror_mode": {
    "name": "ipython",
    "version": 3
   },
   "file_extension": ".py",
   "mimetype": "text/x-python",
   "name": "python",
   "nbconvert_exporter": "python",
   "pygments_lexer": "ipython3",
   "version": "3.11.3"
  },
  "orig_nbformat": 4
 },
 "nbformat": 4,
 "nbformat_minor": 2
}
