{
 "cells": [
  {
   "attachments": {},
   "cell_type": "markdown",
   "metadata": {},
   "source": [
    "# **Q1:-**\n",
    "## Create a vehicle class with an init method having instance variables as name_of_vehicle, max_speed and average_of_vehicle."
   ]
  },
  {
   "cell_type": "code",
   "execution_count": 9,
   "metadata": {},
   "outputs": [
    {
     "name": "stdout",
     "output_type": "stream",
     "text": [
      "vehical name |Max Speed(kmph) | Average_of_vehicle(kmpl)\n",
      "1.fortuner   | 342            | 12\n",
      "2.Audi       | 241            | 20\n",
      "3.Ducati     | 380            | 7\n"
     ]
    }
   ],
   "source": [
    "print(\"vehical name\",\"|Max Speed(kmph)\",\"| Average_of_vehicle(kmpl)\")\n",
    "class vehicle:\n",
    "    def __init__(self,name,max_speed,average_of_vehicle):\n",
    "        self.name = name\n",
    "        self.max_speed = max_speed\n",
    "        self.average_of_vehicle = average_of_vehicle\n",
    "        \n",
    "    def return_value(self):\n",
    "       \n",
    "       print(self.name,\"  |\" , self.max_speed,\"           |\" ,self.average_of_vehicle)\n",
    "car1=vehicle(\"1.fortuner\",342,12)\n",
    "car1.return_value()\n",
    "car2=vehicle(\"2.Audi    \",241  ,20)\n",
    "car2.return_value()\n",
    "car3=vehicle(\"3.Ducati  \",380  ,7)\n",
    "car3.return_value()\n",
    "       "
   ]
  },
  {
   "attachments": {},
   "cell_type": "markdown",
   "metadata": {},
   "source": [
    "# **Q2:-**\n",
    "## Create a child class car from the vehicle class created in Que 1, which will inherit the vehicle class.\n",
    "## Create a method named seating_capacity which takes capacity as an argument and returns the name of the vehicle and its seating capacity."
   ]
  },
  {
   "cell_type": "code",
   "execution_count": 14,
   "metadata": {},
   "outputs": [
    {
     "name": "stdout",
     "output_type": "stream",
     "text": [
      "Name of car | Capacity of car\n",
      " Fortuner   | 8\n",
      " Audi       | 7\n"
     ]
    }
   ],
   "source": [
    "car_list={\"fortuner \":6,\"Audi\":7,\"Safari\":8}\n",
    "class car(vehicle):\n",
    "    def __init__(self,capacity):\n",
    "        self.capacity =capacity\n",
    "    def seating_capacity(self,name):\n",
    "        print(f\" {name}\",\"  |\",f\"{self.capacity}\")\n",
    "print(\"Name of car |\",\"Capacity of car\")\n",
    "obj_car.seating_capacity(\"Fortuner\")\n",
    "obj_car=car(7)\n",
    "obj_car.seating_capacity(\"Audi    \")\n",
    "obj_car=car(8)\n",
    "\n"
   ]
  },
  {
   "attachments": {},
   "cell_type": "markdown",
   "metadata": {},
   "source": [
    "# **Q3:-**\n",
    "## What is multiple inheritance? Write a python code to demonstrate multiple inheritance."
   ]
  },
  {
   "attachments": {},
   "cell_type": "markdown",
   "metadata": {},
   "source": [
    "The property of acquiring all the properties and behaviors of the parent object by an object is termed as Python inheritance. Python facilitates inheritance of a derived class from more than one base class which is also called as multiple inheritance in Python."
   ]
  },
  {
   "cell_type": "code",
   "execution_count": 11,
   "metadata": {},
   "outputs": [],
   "source": [
    "class father:\n",
    "    def details1(self,name,occupation):\n",
    "        self.name = name\n",
    "        self.occupation = occupation\n",
    "        print(f\"My father name is {self.name} and he is a {self.occupation}\")\n",
    "    "
   ]
  },
  {
   "cell_type": "code",
   "execution_count": 12,
   "metadata": {},
   "outputs": [],
   "source": [
    "class mother:\n",
    "    def details2(self,name,occupation):\n",
    "        self.name=name\n",
    "        self.occupation=occupation\n",
    "        print(f\"My mother name is {self.name} and he is a {self.occupation}\")"
   ]
  },
  {
   "cell_type": "code",
   "execution_count": 13,
   "metadata": {},
   "outputs": [],
   "source": [
    "class son(father,mother):\n",
    "    pass"
   ]
  },
  {
   "cell_type": "code",
   "execution_count": 14,
   "metadata": {},
   "outputs": [
    {
     "name": "stdout",
     "output_type": "stream",
     "text": [
      "My father name is ____ and he is a ____\n"
     ]
    }
   ],
   "source": [
    "obj_son=son()\n",
    "obj_son.details1(\"____\",\"____\")\n"
   ]
  },
  {
   "cell_type": "code",
   "execution_count": 15,
   "metadata": {},
   "outputs": [
    {
     "name": "stdout",
     "output_type": "stream",
     "text": [
      "My mother name is ___ and he is a ____\n"
     ]
    }
   ],
   "source": [
    "obj_son.details2(\"___\",\"____\")"
   ]
  },
  {
   "attachments": {},
   "cell_type": "markdown",
   "metadata": {},
   "source": [
    "# **Q4:-**\n",
    "## What are getter and setter in python? Create a class and create a getter and a setter method in this class."
   ]
  },
  {
   "attachments": {},
   "cell_type": "markdown",
   "metadata": {},
   "source": [
    "# **Getters:-**\n",
    "### Getters are the methods that are used in Object-Oriented Programming (OOPS) to access a class's private attributes."
   ]
  },
  {
   "cell_type": "code",
   "execution_count": 3,
   "metadata": {},
   "outputs": [],
   "source": [
    "class person:\n",
    "    def __init__(self,name,number,address):\n",
    "        self.name = name\n",
    "        self.__number = number #__self.number is private variable \n",
    "        self.address = address  \n",
    "    @property\n",
    "    def info(self):\n",
    "        return self.__number"
   ]
  },
  {
   "cell_type": "code",
   "execution_count": 4,
   "metadata": {},
   "outputs": [
    {
     "data": {
      "text/plain": [
       "123456789"
      ]
     },
     "execution_count": 4,
     "metadata": {},
     "output_type": "execute_result"
    }
   ],
   "source": [
    "obj_person=person(\"_____\",123456789,\"\")\n",
    "obj_person.info"
   ]
  },
  {
   "attachments": {},
   "cell_type": "markdown",
   "metadata": {},
   "source": [
    "# **Setters:-**\n",
    "### The setter is a method that is used to set the property's value. It is very useful in object-oriented programming to set the value of private attributes in a class.\n"
   ]
  },
  {
   "cell_type": "code",
   "execution_count": 5,
   "metadata": {},
   "outputs": [],
   "source": [
    "class person:\n",
    "    def __init__(self,name,number,address):\n",
    "        self.name = name\n",
    "        self.__number = number #__self.number is private variable \n",
    "        self.address = address  \n",
    "    @property\n",
    "    def info(self):\n",
    "        return self.__number\n",
    "    @info.setter\n",
    "    def number_change(self,change_number):\n",
    "        if(len(change_number)<=10):\n",
    "            pass\n",
    "        else:\n",
    "            print(\"Invalid Number\")\n",
    "            \n",
    "          "
   ]
  },
  {
   "cell_type": "code",
   "execution_count": 6,
   "metadata": {},
   "outputs": [
    {
     "name": "stdout",
     "output_type": "stream",
     "text": [
      "Invalid Number\n"
     ]
    }
   ],
   "source": [
    "obj_person=person(\"abcdefghij\",1023456789,\"asdsiooweweo\")\n",
    "obj_person.number_change=(\"____________\")"
   ]
  },
  {
   "attachments": {},
   "cell_type": "markdown",
   "metadata": {},
   "source": [
    "# **Q5:-**\n",
    "## What is method overriding in python? Write a python code to demonstrate method overriding."
   ]
  },
  {
   "attachments": {},
   "cell_type": "markdown",
   "metadata": {},
   "source": [
    "### Method overriding is an ability of any object-oriented programming language that allows a subclass or child class to provide a specific implementation of a method that is already provided by one of its super-classes or parent classes. "
   ]
  },
  {
   "cell_type": "code",
   "execution_count": 7,
   "metadata": {},
   "outputs": [],
   "source": [
    "class parent: \n",
    "    def disp(self):\n",
    "        print(\"This is parent class\")\n",
    "class child(parent):\n",
    "    def disp(self):\n",
    "        super().disp() # super keyword is used to method overriding.\n",
    "        print(\"This is child class\")\n",
    "obj_child=child()"
   ]
  },
  {
   "cell_type": "code",
   "execution_count": 8,
   "metadata": {},
   "outputs": [
    {
     "name": "stdout",
     "output_type": "stream",
     "text": [
      "This is parent class\n",
      "This is child class\n"
     ]
    }
   ],
   "source": [
    "obj_child.disp()"
   ]
  }
 ],
 "metadata": {
  "kernelspec": {
   "display_name": "Python 3",
   "language": "python",
   "name": "python3"
  },
  "language_info": {
   "codemirror_mode": {
    "name": "ipython",
    "version": 3
   },
   "file_extension": ".py",
   "mimetype": "text/x-python",
   "name": "python",
   "nbconvert_exporter": "python",
   "pygments_lexer": "ipython3",
   "version": "3.11.3"
  },
  "orig_nbformat": 4
 },
 "nbformat": 4,
 "nbformat_minor": 2
}
