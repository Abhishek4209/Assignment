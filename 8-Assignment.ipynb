{
 "cells": [
  {
   "attachments": {},
   "cell_type": "markdown",
   "metadata": {},
   "source": [
    "# **Q1:-**\n",
    "## What is an exception in python ? Write the difference between Exceptions and Syntax errors."
   ]
  },
  {
   "attachments": {},
   "cell_type": "markdown",
   "metadata": {},
   "source": [
    "### Exceptions are events that are used to modify the flow of control through a program when the error occurs. Exceptions get triggered automatically on finding errors in Python."
   ]
  },
  {
   "attachments": {},
   "cell_type": "markdown",
   "metadata": {},
   "source": [
    "### An Exception is an event that occurs during the program execution and disrupts the normal flow of the program's execution. Errors mostly happen at compile-time like syntax error; however it can happen at runtime as well. Whereas an Exception occurs at runtime (checked exceptions can be detected at compile time)."
   ]
  },
  {
   "attachments": {},
   "cell_type": "markdown",
   "metadata": {},
   "source": [
    "## **Error:-**"
   ]
  },
  {
   "cell_type": "code",
   "execution_count": 29,
   "metadata": {},
   "outputs": [
    {
     "ename": "FileNotFoundError",
     "evalue": "[Errno 2] No such file or directory: 'file.txt'",
     "output_type": "error",
     "traceback": [
      "\u001b[1;31m---------------------------------------------------------------------------\u001b[0m",
      "\u001b[1;31mFileNotFoundError\u001b[0m                         Traceback (most recent call last)",
      "Cell \u001b[1;32mIn[29], line 1\u001b[0m\n\u001b[1;32m----> 1\u001b[0m f\u001b[39m=\u001b[39m\u001b[39mopen\u001b[39;49m(\u001b[39m\"\u001b[39;49m\u001b[39mfile.txt\u001b[39;49m\u001b[39m\"\u001b[39;49m,\u001b[39m\"\u001b[39;49m\u001b[39mr\u001b[39;49m\u001b[39m\"\u001b[39;49m)\u001b[39m# Here python dose not found file.txt file , then it produce error.\u001b[39;00m\n\u001b[0;32m      2\u001b[0m f\u001b[39m.\u001b[39mread()\n",
      "File \u001b[1;32m~\\AppData\\Roaming\\Python\\Python311\\site-packages\\IPython\\core\\interactiveshell.py:284\u001b[0m, in \u001b[0;36m_modified_open\u001b[1;34m(file, *args, **kwargs)\u001b[0m\n\u001b[0;32m    277\u001b[0m \u001b[39mif\u001b[39;00m file \u001b[39min\u001b[39;00m {\u001b[39m0\u001b[39m, \u001b[39m1\u001b[39m, \u001b[39m2\u001b[39m}:\n\u001b[0;32m    278\u001b[0m     \u001b[39mraise\u001b[39;00m \u001b[39mValueError\u001b[39;00m(\n\u001b[0;32m    279\u001b[0m         \u001b[39mf\u001b[39m\u001b[39m\"\u001b[39m\u001b[39mIPython won\u001b[39m\u001b[39m'\u001b[39m\u001b[39mt let you open fd=\u001b[39m\u001b[39m{\u001b[39;00mfile\u001b[39m}\u001b[39;00m\u001b[39m by default \u001b[39m\u001b[39m\"\u001b[39m\n\u001b[0;32m    280\u001b[0m         \u001b[39m\"\u001b[39m\u001b[39mas it is likely to crash IPython. If you know what you are doing, \u001b[39m\u001b[39m\"\u001b[39m\n\u001b[0;32m    281\u001b[0m         \u001b[39m\"\u001b[39m\u001b[39myou can use builtins\u001b[39m\u001b[39m'\u001b[39m\u001b[39m open.\u001b[39m\u001b[39m\"\u001b[39m\n\u001b[0;32m    282\u001b[0m     )\n\u001b[1;32m--> 284\u001b[0m \u001b[39mreturn\u001b[39;00m io_open(file, \u001b[39m*\u001b[39;49margs, \u001b[39m*\u001b[39;49m\u001b[39m*\u001b[39;49mkwargs)\n",
      "\u001b[1;31mFileNotFoundError\u001b[0m: [Errno 2] No such file or directory: 'file.txt'"
     ]
    }
   ],
   "source": [
    "f=open(\"file.txt\",\"r\")# Here python dose not found file.txt file , then it produce error.\n",
    "f.read()\n"
   ]
  },
  {
   "attachments": {},
   "cell_type": "markdown",
   "metadata": {},
   "source": [
    "## **Exception:-**"
   ]
  },
  {
   "cell_type": "code",
   "execution_count": 30,
   "metadata": {},
   "outputs": [
    {
     "name": "stdout",
     "output_type": "stream",
     "text": [
      "This is exception part [Errno 2] No such file or directory: 'file.txt'\n"
     ]
    }
   ],
   "source": [
    "try :\n",
    "    f=open(\"file.txt\",\"r\")\n",
    "except Exception as e :\n",
    "    print(\"This is exception part\",e)"
   ]
  },
  {
   "attachments": {},
   "cell_type": "markdown",
   "metadata": {},
   "source": [
    "# **Q2:-** \n",
    "### What happens when an exception is not handled ? Explain with an example."
   ]
  },
  {
   "attachments": {},
   "cell_type": "markdown",
   "metadata": {},
   "source": [
    "### If the exception is not handled by an except clause, the exception is re-raised after the finally clause has been executed."
   ]
  },
  {
   "cell_type": "code",
   "execution_count": 31,
   "metadata": {},
   "outputs": [
    {
     "name": "stdout",
     "output_type": "stream",
     "text": [
      "Exception  is found [Errno 2] No such file or directory: 'file.csv'\n",
      "finally block is always executed\n"
     ]
    }
   ],
   "source": [
    "try:\n",
    "    f=open(\"file.csv\", \"r\")\n",
    "except Exception as e:\n",
    "    print(\"Exception  is found\",e)\n",
    "finally:\n",
    "    print(\"finally block is always executed\")"
   ]
  },
  {
   "attachments": {},
   "cell_type": "markdown",
   "metadata": {},
   "source": [
    "# **Q3:-**\n",
    "### Which python statements are used to catch and handle exceptions? Explain with an example."
   ]
  },
  {
   "attachments": {},
   "cell_type": "markdown",
   "metadata": {},
   "source": [
    "####  The try and except block in Python is used to catch and handle exceptions. "
   ]
  },
  {
   "cell_type": "code",
   "execution_count": 32,
   "metadata": {},
   "outputs": [
    {
     "name": "stdout",
     "output_type": "stream",
     "text": [
      "Exception block is executed  [Errno 2] No such file or directory: 'file5.txt'\n"
     ]
    }
   ],
   "source": [
    "try:\n",
    "    f=open(\"file5.txt\", \"r\")\n",
    "    print(\"try block is executed succesfully\")\n",
    "except Exception as e:\n",
    "    print(\"Exception block is executed \",e)"
   ]
  },
  {
   "attachments": {},
   "cell_type": "markdown",
   "metadata": {},
   "source": [
    "# **Q4:-** \n",
    "### Explain with an example:\n",
    "#### a.try and else \n",
    "#### b.finally\n",
    "#### c.raise"
   ]
  },
  {
   "attachments": {},
   "cell_type": "markdown",
   "metadata": {},
   "source": [
    "### **➡️try and else:-**"
   ]
  },
  {
   "attachments": {},
   "cell_type": "markdown",
   "metadata": {},
   "source": [
    "### else block is always run if try block is executed succesfully."
   ]
  },
  {
   "cell_type": "code",
   "execution_count": 33,
   "metadata": {},
   "outputs": [
    {
     "name": "stdout",
     "output_type": "stream",
     "text": [
      "if try block is successful execute then else bllock is always execute \n"
     ]
    }
   ],
   "source": [
    "try:\n",
    "    f=open(\"file1.txt\", \"w\")\n",
    "    f.write(\"This is a try block in my exception handling part\")\n",
    "except Exception as e:\n",
    "    print(\"This is my exception block\",e)\n",
    "else: \n",
    "    f.close()\n",
    "    print(\"if try block is successful execute then else bllock is always execute \")"
   ]
  },
  {
   "attachments": {},
   "cell_type": "markdown",
   "metadata": {},
   "source": [
    "### **➡️finally:-**"
   ]
  },
  {
   "attachments": {},
   "cell_type": "markdown",
   "metadata": {},
   "source": [
    "### finally will executed itself in any situation. "
   ]
  },
  {
   "cell_type": "code",
   "execution_count": 34,
   "metadata": {},
   "outputs": [
    {
     "name": "stdout",
     "output_type": "stream",
     "text": [
      "Exception handling [Errno 2] No such file or directory: 'file3.txt'\n",
      "finally will executed itself in any situaton\n"
     ]
    }
   ],
   "source": [
    "try:\n",
    "    f=open(\"file3.txt\",\"r\")\n",
    "except Exception as e:\n",
    "    print(\"Exception handling\",e)\n",
    "    \n",
    "finally:\n",
    "    print(\"finally will executed itself in any situaton\")"
   ]
  },
  {
   "attachments": {},
   "cell_type": "markdown",
   "metadata": {},
   "source": [
    "### **➡️raise:-**"
   ]
  },
  {
   "attachments": {},
   "cell_type": "markdown",
   "metadata": {},
   "source": [
    "### raise statement is used when we want to throw exception for particular condition."
   ]
  },
  {
   "cell_type": "code",
   "execution_count": 35,
   "metadata": {},
   "outputs": [
    {
     "name": "stdout",
     "output_type": "stream",
     "text": [
      "Your age is : 23\n"
     ]
    }
   ],
   "source": [
    "try:\n",
    "    age=int(input(\"Enter your age: \"))\n",
    "    if age<0:\n",
    "        raise ValueError\n",
    "    print(\"Your age is :\",age)\n",
    "except ValueError:\n",
    "    print(\"Enter valid age \")    "
   ]
  },
  {
   "attachments": {},
   "cell_type": "markdown",
   "metadata": {},
   "source": [
    "# **Q5:-**\n",
    "### What are Custom Exceptions in pthon? Why do we need Custom Exceptions?Explain with an example."
   ]
  },
  {
   "attachments": {},
   "cell_type": "markdown",
   "metadata": {},
   "source": [
    "##### You can define custom exceptions in Python by creating a new class, that is derived from the built-in Exception class."
   ]
  },
  {
   "cell_type": "code",
   "execution_count": 36,
   "metadata": {},
   "outputs": [],
   "source": [
    "class Driving_license(Exception):\n",
    "    def __init__(self,age):\n",
    "        self.age = age"
   ]
  },
  {
   "cell_type": "code",
   "execution_count": 37,
   "metadata": {},
   "outputs": [],
   "source": [
    "def info(age):\n",
    "    if age <18:\n",
    "        raise Driving_license(\"You don't think to drive the car\")\n",
    "    elif age >65:\n",
    "        raise Driving_license(\"You are not able to drive the car\")\n",
    "    else:\n",
    "        print(\"You are able to drive the car😊\")"
   ]
  },
  {
   "cell_type": "code",
   "execution_count": 38,
   "metadata": {},
   "outputs": [
    {
     "name": "stdout",
     "output_type": "stream",
     "text": [
      "You don't think to drive the car\n"
     ]
    }
   ],
   "source": [
    "try:\n",
    "    age=int(input(\"Enter your age: \"))\n",
    "    info(age)\n",
    "except Driving_license as e:\n",
    "    print(e)"
   ]
  },
  {
   "attachments": {},
   "cell_type": "markdown",
   "metadata": {},
   "source": [
    "# **Q6:-** \n",
    "### Create a custom exception class. Use this class to handle an exception."
   ]
  },
  {
   "cell_type": "code",
   "execution_count": 39,
   "metadata": {},
   "outputs": [],
   "source": [
    "class validateage(Exception):\n",
    "    def __init__(self,msg):\n",
    "        self.msg = msg\n",
    "    "
   ]
  },
  {
   "cell_type": "code",
   "execution_count": 40,
   "metadata": {},
   "outputs": [],
   "source": [
    "def validage(age):\n",
    "    if (age<0):\n",
    "        raise validateage(\"Invalid age\")\n",
    "    elif(age>200):\n",
    "        raise validateage(\"Invalid age\")\n",
    "    else:\n",
    "        print(\"Valid age:\",age)"
   ]
  },
  {
   "cell_type": "code",
   "execution_count": 41,
   "metadata": {},
   "outputs": [
    {
     "name": "stdout",
     "output_type": "stream",
     "text": [
      "Valid age: 34\n"
     ]
    }
   ],
   "source": [
    "try:\n",
    "    age=int(input(\"Enter your age\"))\n",
    "    validage(age)\n",
    "except validateage as e:\n",
    "    print(e)"
   ]
  }
 ],
 "metadata": {
  "kernelspec": {
   "display_name": "Python 3",
   "language": "python",
   "name": "python3"
  },
  "language_info": {
   "codemirror_mode": {
    "name": "ipython",
    "version": 3
   },
   "file_extension": ".py",
   "mimetype": "text/x-python",
   "name": "python",
   "nbconvert_exporter": "python",
   "pygments_lexer": "ipython3",
   "version": "3.11.3"
  },
  "orig_nbformat": 4
 },
 "nbformat": 4,
 "nbformat_minor": 2
}
