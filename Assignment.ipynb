{
 "cells": [
  {
   "attachments": {},
   "cell_type": "markdown",
   "metadata": {},
   "source": [
    "# **Assignment:-01**"
   ]
  },
  {
   "attachments": {},
   "cell_type": "markdown",
   "metadata": {},
   "source": [
    "## **Q.1 Create one variable containing following type of data**\n",
    "##### (i) string\n",
    "##### (ii) list\n",
    "##### (iii) float\n",
    "##### (iv) tuple"
   ]
  },
  {
   "cell_type": "code",
   "execution_count": null,
   "metadata": {},
   "outputs": [],
   "source": [
    "l1=[\"Abhi\",[1,2,3],2.3,(2,3,4)]\n",
    "for i in l1:\n",
    "    print(type(i))"
   ]
  },
  {
   "attachments": {},
   "cell_type": "markdown",
   "metadata": {},
   "source": [
    "## **Q2. Given are some following variables containing data:**\n",
    "##### (i) var1 = ‘ ‘\n",
    "##### (ii) var2 = ‘[ DS , ML , Python]’\n",
    "##### (iii) var3 = [ ‘DS’ , ’ML’ , ‘Python’ ]\n",
    "##### (iv) var4 = 1.\n",
    "#### What will be the data type of the above given variable."
   ]
  },
  {
   "cell_type": "code",
   "execution_count": null,
   "metadata": {},
   "outputs": [],
   "source": [
    "var1=\"\"\n",
    "var2=\"[DS ,ML,Python]\"\n",
    "var3=[\"DS\" ,\"ML\",\"Python\"]\n",
    "var4=1.\n",
    "print(\"The type of variable is: \",type(var1))\n",
    "print(\"The type of variable is: \",type(var2))\n",
    "print(\"The type of variable is: \",type(var3))\n",
    "print(\"The type of variable is: \",type(var4))"
   ]
  },
  {
   "attachments": {},
   "cell_type": "markdown",
   "metadata": {},
   "source": [
    "## **Q3. Explain the use of the following operators using an example:**\n",
    "##### (i) /\n",
    "##### (ii) %\n",
    "##### (iii) //\n",
    "##### (iv) **"
   ]
  },
  {
   "cell_type": "code",
   "execution_count": null,
   "metadata": {},
   "outputs": [],
   "source": [
    "a=int(input(\"pls enter the first number \"))\n",
    "b=int(input(\"pls enter the second number \"))\n",
    "print(a/b)\n",
    "print(a%b)\n",
    "print(a//b)\n",
    "print(a**b)"
   ]
  },
  {
   "attachments": {},
   "cell_type": "markdown",
   "metadata": {},
   "source": [
    "## **Q4. Create a list of length 10 of your choice containing multiple types of data. Using for loop print the element and its data type.**"
   ]
  },
  {
   "cell_type": "code",
   "execution_count": null,
   "metadata": {},
   "outputs": [],
   "source": [
    "list=[10,1.2,\"ABhishek\",True,False,{111: \"Eric\"},complex(2,3)]\n",
    "print(\"The len of given list is :-\",len(list))\n",
    "for i in list:\n",
    "    print(type(i))  "
   ]
  },
  {
   "attachments": {},
   "cell_type": "markdown",
   "metadata": {},
   "source": [
    "## **Q5. Using a while loop, verify if the number A is purely divisible by number B and if so then how many times it can be divisible.**"
   ]
  },
  {
   "cell_type": "code",
   "execution_count": 1,
   "metadata": {},
   "outputs": [
    {
     "name": "stdout",
     "output_type": "stream",
     "text": [
      "Total Number of times number A is divisible by b:- 5\n"
     ]
    }
   ],
   "source": [
    "a=int(input(\"Pls enter the number \"))\n",
    "b=1\n",
    "count=0\n",
    "while(a>b):\n",
    "    if(a%b==0):\n",
    "       count=count+1\n",
    "    b=b+1\n",
    "print(\"Total Number of times number A is divisible by b:-\",count)"
   ]
  },
  {
   "attachments": {},
   "cell_type": "markdown",
   "metadata": {},
   "source": [
    "## **Q6. Create a list containing 25 int type data. Using for loop and if-else condition print if the element is divisible by 3 or not.**"
   ]
  },
  {
   "cell_type": "code",
   "execution_count": null,
   "metadata": {},
   "outputs": [],
   "source": [
    "list=[1,2,3,4,5,6,7,8,9,10,11,12,13,14,15,16,17,18,19,20,21,22,23,24,25]\n",
    "print(\"The length of given list is:- \",len(list),\"\\n\")\n",
    "j=0\n",
    "k=0\n",
    "for i in range(len(list)):\n",
    "    if(list[i]%3==0):\n",
    "        print(\"Number is divisible by 3 \\n\")\n",
    "        j=j+1\n",
    "    else:\n",
    "        print(\"Number is not divisible by 3 \\n\")\n",
    "        k=k+1\n",
    "print(\"Total number in given list is divisible by 3 is:-\",j)\n",
    "print(\"Total number which is not divisible by 3:-\",k)"
   ]
  },
  {
   "attachments": {},
   "cell_type": "markdown",
   "metadata": {},
   "source": [
    "## **Q7. What do you understand about mutable and immutable data types? Give examples for both showing this property.**"
   ]
  },
  {
   "attachments": {},
   "cell_type": "markdown",
   "metadata": {},
   "source": [
    "## **Mutable & Immutable:-**\n",
    "#### Mutable means:- It's changed his value on run time.\n",
    "#### Immutable means:- It dosen't changed his value on run time."
   ]
  },
  {
   "cell_type": "code",
   "execution_count": null,
   "metadata": {},
   "outputs": [],
   "source": [
    "l1=[1,2,3,\"Abhishek\"]\n",
    "l1[3]=\"Upadhyay\"# list is mutable.\n",
    "l1\n"
   ]
  },
  {
   "cell_type": "code",
   "execution_count": null,
   "metadata": {},
   "outputs": [],
   "source": [
    "tup1=(\"PWSkills\",\"RAM ji\",12,13)\n",
    "tup1[3]=\"Harry\"# Tuples are immutable\n",
    "tup1"
   ]
  }
 ],
 "metadata": {
  "kernelspec": {
   "display_name": "Python 3",
   "language": "python",
   "name": "python3"
  },
  "language_info": {
   "codemirror_mode": {
    "name": "ipython",
    "version": 3
   },
   "file_extension": ".py",
   "mimetype": "text/x-python",
   "name": "python",
   "nbconvert_exporter": "python",
   "pygments_lexer": "ipython3",
   "version": "3.10.6"
  },
  "orig_nbformat": 4
 },
 "nbformat": 4,
 "nbformat_minor": 2
}
